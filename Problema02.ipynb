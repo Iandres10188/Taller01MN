{
 "cells": [
  {
   "cell_type": "markdown",
   "id": "6ea286b7",
   "metadata": {},
   "source": [
    "# Algoritmo 02"
   ]
  },
  {
   "cell_type": "code",
   "execution_count": null,
   "id": "7fc7497c",
   "metadata": {},
   "outputs": [
    {
     "name": "stdout",
     "output_type": "stream",
     "text": [
      "Arreglo original: [5, 4, 3, 2, 1]\n",
      "Arreglo ordenado: [1, 2, 3, 4, 5]\n"
     ]
    }
   ],
   "source": [
    "def bubble_sort(arr):\n",
    "    n = len(arr)\n",
    "    for i in range(n):\n",
    "        swapped = False\n",
    "        for j in range(1, n - i):\n",
    "            if arr[j] < arr[j - 1]:\n",
    "                arr[j], arr[j - 1] = arr[j - 1], arr[j]\n",
    "                swapped = True\n",
    "        if not swapped:\n",
    "            break\n",
    "    return arr\n",
    "\n",
    "if __name__ == \"__main__\":\n",
    "    a = [64, 15, 20, 19, 25, 1, 45]\n",
    "    print(\"Arreglo original:\", a)\n",
    "    bubble_sort(a)\n",
    "    print(\"Arreglo ordenado:\", a)\n"
   ]
  },
  {
   "cell_type": "markdown",
   "id": "9b82cd15",
   "metadata": {},
   "source": [
    "## Solución quizizz"
   ]
  },
  {
   "cell_type": "code",
   "execution_count": 4,
   "id": "7909ba52",
   "metadata": {},
   "outputs": [
    {
     "name": "stdout",
     "output_type": "stream",
     "text": [
      "Arreglo original: [5, 4, 3, 2, 1]\n",
      "Arreglo ordenado: [1, 2, 3, 4, 5]\n",
      "Número de comparaciones realizadas: 10\n"
     ]
    }
   ],
   "source": [
    "def bubble_sort(arr):\n",
    "    n = len(arr)\n",
    "    comparaciones = 0  # Contador de comparaciones\n",
    "    for i in range(n):\n",
    "        swapped = False\n",
    "        for j in range(1, n - i):\n",
    "            comparaciones += 1  # Cada vez que se compara arr[j] y arr[j-1]\n",
    "            if arr[j] < arr[j - 1]:\n",
    "                arr[j], arr[j - 1] = arr[j - 1], arr[j]\n",
    "                swapped = True\n",
    "        if not swapped:\n",
    "            break\n",
    "    return comparaciones  # Retornar el número de comparaciones\n",
    "\n",
    "if __name__ == \"__main__\":\n",
    "    a = [5, 4, 3, 2, 1]\n",
    "    print(\"Arreglo original:\", a)\n",
    "    comparaciones = bubble_sort(a)\n",
    "    print(\"Arreglo ordenado:\", a)\n",
    "    print(f\"Número de comparaciones realizadas: {comparaciones}\")"
   ]
  }
 ],
 "metadata": {
  "kernelspec": {
   "display_name": "Python 3",
   "language": "python",
   "name": "python3"
  },
  "language_info": {
   "codemirror_mode": {
    "name": "ipython",
    "version": 3
   },
   "file_extension": ".py",
   "mimetype": "text/x-python",
   "name": "python",
   "nbconvert_exporter": "python",
   "pygments_lexer": "ipython3",
   "version": "3.13.3"
  }
 },
 "nbformat": 4,
 "nbformat_minor": 5
}
