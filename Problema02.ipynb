{
 "cells": [
  {
   "cell_type": "markdown",
   "id": "6ea286b7",
   "metadata": {},
   "source": [
    "# Algoritmo 02"
   ]
  },
  {
   "cell_type": "markdown",
   "id": "a2c3cb66",
   "metadata": {},
   "source": []
  }
 ],
 "metadata": {
  "language_info": {
   "name": "python"
  }
 },
 "nbformat": 4,
 "nbformat_minor": 5
}
