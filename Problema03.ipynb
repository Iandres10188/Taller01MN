{
 "cells": [
  {
   "cell_type": "markdown",
   "id": "f9112dfa",
   "metadata": {},
   "source": [
    "# Algoritmo 03"
   ]
  },
  {
   "cell_type": "code",
   "execution_count": 9,
   "id": "f802b01b",
   "metadata": {},
   "outputs": [
    {
     "name": "stdout",
     "output_type": "stream",
     "text": [
      "Cuando n = 11, el valor de y es: 89\n"
     ]
    }
   ],
   "source": [
    "def iterative(n):\n",
    "    if n == 0:\n",
    "        return 0\n",
    "    else:\n",
    "        x = 0\n",
    "        y = 1\n",
    "        for i in range(1, n):\n",
    "            z = x + y\n",
    "            x = y\n",
    "            y = z\n",
    "        return y\n",
    "\n",
    "# Ejecutar el algoritmo con n = 11\n",
    "n = 11\n",
    "resultado = iterative(n)\n",
    "print(f\"Cuando n = {n}, el valor de y es: {resultado}\")\n"
   ]
  },
  {
   "cell_type": "markdown",
   "id": "383edb4e",
   "metadata": {},
   "source": [
    "## Participación en clase"
   ]
  },
  {
   "cell_type": "code",
   "execution_count": null,
   "id": "9e217eb6",
   "metadata": {},
   "outputs": [
    {
     "name": "stdout",
     "output_type": "stream",
     "text": [
      "Iteración 1: y(i) = 1.0, y(i+1) = 1.0, ratio = 1.0, error = 0.3827160493827161\n",
      "Iteración 2: y(i) = 1.0, y(i+1) = 2.0, ratio = 2.0, error = 0.23456790123456783\n",
      "Iteración 3: y(i) = 2.0, y(i+1) = 3.0, ratio = 1.5, error = 0.07407407407407414\n",
      "Iteración 4: y(i) = 3.0, y(i+1) = 5.0, ratio = 1.67, error = 0.030864197530864085\n",
      "Iteración 5: y(i) = 5.0, y(i+1) = 8.0, ratio = 1.6, error = 0.012345679012345689\n",
      "Iteración 6: y(i) = 8.0, y(i+1) = 13.0, ratio = 1.62, error = 0.0\n",
      "\n",
      "El error relativo es menor que 1e-05 desde la iteración 6\n"
     ]
    },
    {
     "data": {
      "text/plain": [
       "6"
      ]
     },
     "execution_count": 10,
     "metadata": {},
     "output_type": "execute_result"
    }
   ],
   "source": [
    "import math\n",
    "\n",
    "def FL_rounding(num: float, digits: int) -> float:\n",
    "    ''' Rounds the given ``num`` with the given significant ``digits``. '''\n",
    "    num = float(f\"{num:.{digits - 1}e}\")\n",
    "    return num\n",
    "\n",
    "def encontrar_iteracion_con_error_minimo(tol=1e-5, digits=3):\n",
    "    gr = (1 + math.sqrt(5)) / 2  \n",
    "    gr = FL_rounding(gr, digits)\n",
    "\n",
    "    x = FL_rounding(0, digits)\n",
    "    y = FL_rounding(1, digits)\n",
    "\n",
    "    i = 1\n",
    "    while True:\n",
    "        z = FL_rounding(x + y, digits)\n",
    "        if y != 0:\n",
    "            ratio = FL_rounding(z / y, digits)\n",
    "            error = abs((gr - ratio) / gr)\n",
    "        else:\n",
    "            ratio = 0\n",
    "            error = float('inf')\n",
    "\n",
    "        print(f\"Iteración {i}: y(i) = {y}, y(i+1) = {z}, ratio = {ratio}, error = {error}\")\n",
    "\n",
    "        if error < tol:\n",
    "            print(f\"\\nEl error relativo es menor que {tol} desde la iteración {i}\")\n",
    "            return i\n",
    "\n",
    "        x = y\n",
    "        y = z\n",
    "        i += 1\n",
    "\n",
    "        if i > 1000:\n",
    "            print(\"No se alcanzó el error deseado con el redondeo especificado.\")\n",
    "            break\n",
    "\n",
    "encontrar_iteracion_con_error_minimo()\n"
   ]
  }
 ],
 "metadata": {
  "kernelspec": {
   "display_name": "Python 3",
   "language": "python",
   "name": "python3"
  },
  "language_info": {
   "codemirror_mode": {
    "name": "ipython",
    "version": 3
   },
   "file_extension": ".py",
   "mimetype": "text/x-python",
   "name": "python",
   "nbconvert_exporter": "python",
   "pygments_lexer": "ipython3",
   "version": "3.13.3"
  }
 },
 "nbformat": 4,
 "nbformat_minor": 5
}
