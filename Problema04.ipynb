{
 "cells": [
  {
   "cell_type": "markdown",
   "id": "b9a8a176",
   "metadata": {},
   "source": [
    "## Algoritmo 04"
   ]
  },
  {
   "cell_type": "code",
   "execution_count": 1,
   "id": "f71b3f9f",
   "metadata": {},
   "outputs": [
    {
     "name": "stdout",
     "output_type": "stream",
     "text": [
      "Después de 1000000 términos, la suma es aproximadamente: 14.392726722864989\n"
     ]
    }
   ],
   "source": [
    "# Código para calcular la serie armónica hasta un número grande de términos\n",
    "\n",
    "def serie_armonica(terminos):\n",
    "    suma = 0.0\n",
    "    for n in range(1, terminos + 1):\n",
    "        suma += 1/n\n",
    "    return suma\n",
    "\n",
    "# Número de términos que quieres calcular\n",
    "terminos = 1000000  # Un millón de términos\n",
    "resultado = serie_armonica(terminos)\n",
    "\n",
    "print(f\"Después de {terminos} términos, la suma es aproximadamente: {resultado}\")\n"
   ]
  }
 ],
 "metadata": {
  "kernelspec": {
   "display_name": "Python 3",
   "language": "python",
   "name": "python3"
  },
  "language_info": {
   "codemirror_mode": {
    "name": "ipython",
    "version": 3
   },
   "file_extension": ".py",
   "mimetype": "text/x-python",
   "name": "python",
   "nbconvert_exporter": "python",
   "pygments_lexer": "ipython3",
   "version": "3.13.3"
  }
 },
 "nbformat": 4,
 "nbformat_minor": 5
}
