{
 "cells": [
  {
   "cell_type": "markdown",
   "id": "4fec6043",
   "metadata": {},
   "source": [
    "# Taller 01\n",
    "### Ian Oñate y Pablo Pacheco"
   ]
  }
 ],
 "metadata": {
  "language_info": {
   "name": "python"
  }
 },
 "nbformat": 4,
 "nbformat_minor": 5
}
