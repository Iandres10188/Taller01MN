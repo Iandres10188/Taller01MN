{
 "cells": [
  {
   "cell_type": "markdown",
   "id": "4fec6043",
   "metadata": {},
   "source": [
    "# Algoritmo 01"
   ]
  },
  {
   "cell_type": "code",
   "execution_count": 1,
   "id": "fc1759b3",
   "metadata": {},
   "outputs": [
    {
     "name": "stdout",
     "output_type": "stream",
     "text": [
      "La suma es: 9.2\n"
     ]
    }
   ],
   "source": [
    "numeros = [2.5, 3.1, -1.2, 4.8]\n",
    "N = len(numeros)\n",
    "\n",
    "SUM = 0 \n",
    "for i in range(N):\n",
    "    \n",
    "    SUM = SUM + numeros[i] \n",
    "\n",
    "print(\"La suma es:\", SUM)\n"
   ]
  }
 ],
 "metadata": {
  "kernelspec": {
   "display_name": "Python 3",
   "language": "python",
   "name": "python3"
  },
  "language_info": {
   "codemirror_mode": {
    "name": "ipython",
    "version": 3
   },
   "file_extension": ".py",
   "mimetype": "text/x-python",
   "name": "python",
   "nbconvert_exporter": "python",
   "pygments_lexer": "ipython3",
   "version": "3.13.3"
  }
 },
 "nbformat": 4,
 "nbformat_minor": 5
}
